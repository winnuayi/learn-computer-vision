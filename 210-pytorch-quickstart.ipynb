{
 "cells": [
  {
   "attachments": {},
   "cell_type": "markdown",
   "metadata": {},
   "source": [
    "https://pytorch.org/tutorials/beginner/basics/quickstart_tutorial.html\n",
    "\n",
    "Code ini merupakan tutorial quickstart dari official web PyTorch."
   ]
  },
  {
   "cell_type": "code",
   "execution_count": 4,
   "metadata": {},
   "outputs": [],
   "source": [
    "import torch\n",
    "from torch import nn\n",
    "from torch.utils.data import DataLoader\n",
    "from torchvision import datasets\n",
    "from torchvision.transforms import ToTensor"
   ]
  },
  {
   "attachments": {},
   "cell_type": "markdown",
   "metadata": {},
   "source": [
    "Dataset FashionMNIST sudah ada sebagai bagian dari library PyTorch. Hasil\n",
    "download terdiri dari 2 macam dataset: dataset&label untuk training dan\n",
    "dataset&label untuk testing."
   ]
  },
  {
   "cell_type": "code",
   "execution_count": 6,
   "metadata": {},
   "outputs": [],
   "source": [
    "# jika belum pernah di-download, download ke folder data\n",
    "# untuk argumen train=True, gunakan dataset untuk training (train-images-idx3-ubyte)\n",
    "# transform=ToTensor() mengubah PIL Images menjadi format tensor\n",
    "training_data = datasets.FashionMNIST(\n",
    "    root=\"data\",\n",
    "    train=True,\n",
    "    download=True,\n",
    "    transform=ToTensor(),\n",
    ")\n",
    "\n",
    "# untuk argumen train=False, gunakan dataset untuk testing (t10k-images-idx3-ubyte)\n",
    "test_data = datasets.FashionMNIST(\n",
    "    root=\"data\",\n",
    "    train=False,\n",
    "    download=True,\n",
    "    transform=ToTensor(),\n",
    ")"
   ]
  },
  {
   "attachments": {},
   "cell_type": "markdown",
   "metadata": {},
   "source": [
    "Dataloader merupakan sebuah iterable yang support automatic batching, sampling,\n",
    "shuffling, dan multiprocess data loading.\n",
    "\n",
    "Jika batch_size=64 dan training_data=60000,\n",
    "maka train_dataloader = training_data / batch_size = 937.5 = 938.\n",
    "\n",
    "https://www.kaggle.com/datasets/zalando-research/fashionmnist\n",
    "\n",
    "Ukuran satu data FashionMNIST adalah 28 pixels x 28 pixels."
   ]
  },
  {
   "cell_type": "code",
   "execution_count": 19,
   "metadata": {},
   "outputs": [
    {
     "name": "stdout",
     "output_type": "stream",
     "text": [
      "training_data: 60000\n",
      "test_data: 10000\n",
      "train_dataloader: 938\n",
      "test_dataloader: 157\n",
      "Shape of X [N, C, H, W]: torch.Size([64, 1, 28, 28])\n",
      "Shape of y: torch.Size([64]) torch.int64\n"
     ]
    }
   ],
   "source": [
    "batch_size = 64\n",
    "\n",
    "# create data loaders\n",
    "train_dataloader = DataLoader(training_data, batch_size=batch_size)\n",
    "test_dataloader = DataLoader(test_data, batch_size=batch_size)\n",
    "\n",
    "print(\"training_data:\", len(training_data))\n",
    "print(\"test_data:\", len(test_data))\n",
    "print(\"train_dataloader:\", len(train_dataloader))\n",
    "print(\"test_dataloader:\", len(test_dataloader))\n",
    "\n",
    "for X, y in test_dataloader:\n",
    "    print(f\"Shape of X [N, C, H, W]: {X.shape}\")\n",
    "    print(f\"Shape of y: {y.shape} {y.dtype}\")\n",
    "    break"
   ]
  },
  {
   "attachments": {},
   "cell_type": "markdown",
   "metadata": {},
   "source": [
    "Jika ada GPU Nvidia, gunakan cuda. \n",
    "\n",
    "Jika ada Nvidia Multi-Process Service, gunakan mps.\n",
    "https://pytorch.org/serve/nvidia_mps.html\n",
    "\n",
    "Jika tidak ada satupun, gunakan cpu."
   ]
  },
  {
   "cell_type": "code",
   "execution_count": 20,
   "metadata": {},
   "outputs": [
    {
     "name": "stdout",
     "output_type": "stream",
     "text": [
      "Using cpu device\n"
     ]
    }
   ],
   "source": [
    "device = (\n",
    "    \"cuda\" if torch.cuda.is_available()\n",
    "        else \"mps\" if torch.backends.mps.is_available()\n",
    "        else \"cpu\"\n",
    ")\n",
    "\n",
    "print(f\"Using {device} device\")"
   ]
  },
  {
   "attachments": {},
   "cell_type": "markdown",
   "metadata": {},
   "source": [
    "Arsitektur neural network.\n",
    "\n",
    "28*28 sesuai dengan ukuran 1 example data FashionMNIST.\n",
    "\n",
    "Pada layer terakhir akan menghasilkan 10 output dengan probabilitas\n",
    "masing-masing. "
   ]
  },
  {
   "cell_type": "code",
   "execution_count": 10,
   "metadata": {},
   "outputs": [
    {
     "name": "stdout",
     "output_type": "stream",
     "text": [
      "NeuralNetwork(\n",
      "  (flatten): Flatten(start_dim=1, end_dim=-1)\n",
      "  (linear_relu_stack): Sequential(\n",
      "    (0): Linear(in_features=784, out_features=512, bias=True)\n",
      "    (1): ReLU()\n",
      "    (2): Linear(in_features=512, out_features=512, bias=True)\n",
      "    (3): ReLU()\n",
      "    (4): Linear(in_features=512, out_features=10, bias=True)\n",
      "  )\n",
      ")\n"
     ]
    }
   ],
   "source": [
    "class NeuralNetwork(nn.Module):\n",
    "    def __init__(self):\n",
    "        super().__init__()\n",
    "        self.flatten = nn.Flatten()\n",
    "        self.linear_relu_stack = nn.Sequential(\n",
    "            nn.Linear(28*28, 512),\n",
    "            nn.ReLU(),\n",
    "            nn.Linear(512, 512),\n",
    "            nn.ReLU(),\n",
    "            nn.Linear(512, 10)\n",
    "        )\n",
    "    \n",
    "    def forward(self, x):\n",
    "        x = self.flatten(x)\n",
    "        logits = self.linear_relu_stack(x)\n",
    "        return logits\n",
    "\n",
    "model = NeuralNetwork().to(device)\n",
    "print(model)"
   ]
  },
  {
   "cell_type": "code",
   "execution_count": 11,
   "metadata": {},
   "outputs": [],
   "source": [
    "loss_fn = nn.CrossEntropyLoss()\n",
    "optimizer = torch.optim.SGD(model.parameters(), lr=1e-3)\n",
    "\n",
    "def train(dataloader, model, loss_fn, optimizer):\n",
    "    size = len(dataloader.dataset)\n",
    "    model.train()\n",
    "    for batch, (X, y) in enumerate(dataloader):\n",
    "        X, y = X.to(device), y.to(device)\n",
    "\n",
    "        # computer prediction error\n",
    "        pred = model(X)\n",
    "        loss = loss_fn(pred, y)\n",
    "\n",
    "        # backpropagation\n",
    "        loss.backward()\n",
    "        optimizer.step()\n",
    "        optimizer.zero_grad()\n",
    "\n",
    "        if batch % 100 == 0:\n",
    "            loss, current = loss.item(), (batch + 1) * len(X)\n",
    "            print(f\"loss: {loss:>7f} [{current:>5d}/{size:>5d}]\")\n",
    "\n",
    "\n",
    "def test(dataloader, model, loss_fn):\n",
    "    size = len(dataloader.dataset)\n",
    "    num_batches = len(dataloader)\n",
    "    model.eval()\n",
    "    test_loss, correct = 0, 0\n",
    "    with torch.no_grad():\n",
    "        for X, y in dataloader:\n",
    "            X, y = X.to(device), y.to(device)\n",
    "            pred = model(X)\n",
    "            test_loss += loss_fn(pred, y).item()\n",
    "            correct += (pred.argmax(1) == y).type(torch.float).sum().item()\n",
    "    \n",
    "    test_loss /= num_batches\n",
    "    correct /= size\n",
    "    print(f\"Test Error: \\n Accuracy: {(100*correct):>0.1f}%, Avg loss: {test_loss:>8f}\\n\")"
   ]
  },
  {
   "cell_type": "code",
   "execution_count": 12,
   "metadata": {},
   "outputs": [
    {
     "name": "stdout",
     "output_type": "stream",
     "text": [
      "Epoch 1\n",
      "------------\n",
      "loss: 2.288001 [   64/60000]\n",
      "loss: 2.286509 [ 6464/60000]\n",
      "loss: 2.267801 [12864/60000]\n",
      "loss: 2.266342 [19264/60000]\n",
      "loss: 2.251616 [25664/60000]\n",
      "loss: 2.221605 [32064/60000]\n",
      "loss: 2.232651 [38464/60000]\n",
      "loss: 2.198821 [44864/60000]\n",
      "loss: 2.193788 [51264/60000]\n",
      "loss: 2.167642 [57664/60000]\n",
      "Test Error: \n",
      " Accuracy: 45.6%, Avg loss: 2.159934\n",
      "\n",
      "Epoch 2\n",
      "------------\n",
      "loss: 2.163356 [   64/60000]\n",
      "loss: 2.160763 [ 6464/60000]\n",
      "loss: 2.103959 [12864/60000]\n",
      "loss: 2.115252 [19264/60000]\n",
      "loss: 2.073487 [25664/60000]\n",
      "loss: 2.018971 [32064/60000]\n",
      "loss: 2.040313 [38464/60000]\n",
      "loss: 1.968054 [44864/60000]\n",
      "loss: 1.969828 [51264/60000]\n",
      "loss: 1.898450 [57664/60000]\n",
      "Test Error: \n",
      " Accuracy: 59.1%, Avg loss: 1.895082\n",
      "\n",
      "Epoch 3\n",
      "------------\n",
      "loss: 1.925331 [   64/60000]\n",
      "loss: 1.895560 [ 6464/60000]\n",
      "loss: 1.784524 [12864/60000]\n",
      "loss: 1.811363 [19264/60000]\n",
      "loss: 1.710054 [25664/60000]\n",
      "loss: 1.669132 [32064/60000]\n",
      "loss: 1.680232 [38464/60000]\n",
      "loss: 1.588543 [44864/60000]\n",
      "loss: 1.610046 [51264/60000]\n",
      "loss: 1.500704 [57664/60000]\n",
      "Test Error: \n",
      " Accuracy: 61.8%, Avg loss: 1.520272\n",
      "\n",
      "Epoch 4\n",
      "------------\n",
      "loss: 1.584598 [   64/60000]\n",
      "loss: 1.548668 [ 6464/60000]\n",
      "loss: 1.405986 [12864/60000]\n",
      "loss: 1.464715 [19264/60000]\n",
      "loss: 1.354299 [25664/60000]\n",
      "loss: 1.351093 [32064/60000]\n",
      "loss: 1.358029 [38464/60000]\n",
      "loss: 1.287804 [44864/60000]\n",
      "loss: 1.319725 [51264/60000]\n",
      "loss: 1.216508 [57664/60000]\n",
      "Test Error: \n",
      " Accuracy: 63.8%, Avg loss: 1.246375\n",
      "\n",
      "Epoch 5\n",
      "------------\n",
      "loss: 1.318719 [   64/60000]\n",
      "loss: 1.300979 [ 6464/60000]\n",
      "loss: 1.141687 [12864/60000]\n",
      "loss: 1.238379 [19264/60000]\n",
      "loss: 1.121757 [25664/60000]\n",
      "loss: 1.143771 [32064/60000]\n",
      "loss: 1.159778 [38464/60000]\n",
      "loss: 1.101743 [44864/60000]\n",
      "loss: 1.137735 [51264/60000]\n",
      "loss: 1.050730 [57664/60000]\n",
      "Test Error: \n",
      " Accuracy: 65.1%, Avg loss: 1.077156\n",
      "\n",
      "Done!\n"
     ]
    }
   ],
   "source": [
    "epochs = 5\n",
    "for t in range(epochs):\n",
    "    print(f\"Epoch {t+1}\\n------------\")\n",
    "    train(train_dataloader, model, loss_fn, optimizer)\n",
    "    test(test_dataloader, model, loss_fn)\n",
    "print(\"Done!\")"
   ]
  },
  {
   "cell_type": "code",
   "execution_count": 13,
   "metadata": {},
   "outputs": [
    {
     "name": "stdout",
     "output_type": "stream",
     "text": [
      "Saved PyTorch Model State to quickstart.pth\n"
     ]
    }
   ],
   "source": [
    "torch.save(model.state_dict(), \"quickstart.pth\")\n",
    "print(\"Saved PyTorch Model State to quickstart.pth\")"
   ]
  },
  {
   "cell_type": "code",
   "execution_count": 14,
   "metadata": {},
   "outputs": [
    {
     "data": {
      "text/plain": [
       "<All keys matched successfully>"
      ]
     },
     "execution_count": 14,
     "metadata": {},
     "output_type": "execute_result"
    }
   ],
   "source": [
    "model = NeuralNetwork().to(device)\n",
    "model.load_state_dict(torch.load(\"quickstart.pth\"))"
   ]
  },
  {
   "attachments": {},
   "cell_type": "markdown",
   "metadata": {},
   "source": [
    "test_data adalah dataset testing dari FashionMNIST. example terakhirnya adalah\n",
    "test_data[9999].\n",
    "\n",
    "Jika akurasi rendah, kemungkinan prediksi salah cukup besar."
   ]
  },
  {
   "cell_type": "code",
   "execution_count": 41,
   "metadata": {},
   "outputs": [
    {
     "name": "stdout",
     "output_type": "stream",
     "text": [
      "x: torch.Size([1, 28, 28])\n",
      "y: 1\n",
      "pred: tensor([[ 1.0367,  2.5055, -0.1181,  1.7971,  0.2553, -1.3577,  0.4084, -1.7467,\n",
      "         -1.3247, -1.6003]])\n",
      "Predicted: \"Trouser\", Actual: \"Trouser\"\n"
     ]
    }
   ],
   "source": [
    "classes = [\n",
    "    \"T-shirt/top\",\n",
    "    \"Trouser\",\n",
    "    \"Pullover\",\n",
    "    \"Dress\",\n",
    "    \"Coat\",\n",
    "    \"Sandal\",\n",
    "    \"Shirt\",\n",
    "    \"Sneaker\",\n",
    "    \"Bag\",\n",
    "    \"Ankle boot\"\n",
    "]\n",
    "\n",
    "model.eval()\n",
    "\n",
    "# urutan example di dalam testing dataset. dari 0 hingga 9999.\n",
    "NUMBER = 9996\n",
    "\n",
    "x, y = test_data[NUMBER][0], test_data[NUMBER][1]\n",
    "\n",
    "print(\"x:\", x.shape)\n",
    "print(\"y:\", y)\n",
    "\n",
    "with torch.no_grad():\n",
    "    # convert \n",
    "    x = x.to(device)\n",
    "    pred = model(x)\n",
    "    print(\"pred:\", pred)\n",
    "    predicted, actual = classes[pred[0].argmax(0)], classes[y]\n",
    "    print(f'Predicted: \"{predicted}\", Actual: \"{actual}\"')"
   ]
  }
 ],
 "metadata": {
  "kernelspec": {
   "display_name": "env",
   "language": "python",
   "name": "python3"
  },
  "language_info": {
   "codemirror_mode": {
    "name": "ipython",
    "version": 3
   },
   "file_extension": ".py",
   "mimetype": "text/x-python",
   "name": "python",
   "nbconvert_exporter": "python",
   "pygments_lexer": "ipython3",
   "version": "3.11.3"
  },
  "orig_nbformat": 4
 },
 "nbformat": 4,
 "nbformat_minor": 2
}
