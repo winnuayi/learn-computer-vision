{
 "cells": [
  {
   "cell_type": "code",
   "execution_count": 16,
   "metadata": {},
   "outputs": [
    {
     "name": "stdout",
     "output_type": "stream",
     "text": [
      "[ 0  1  2  3  4  5  6  7  8  9 10 11 12 13 14 15 16 17 18 19 20 21 22 23\n",
      " 24 25 26 27 28 29 30 31 32 33 34 35 36 37 38 39 40 41 42 43 44 45 46 47]\n",
      "[[[ 0  1  2  3]\n",
      "  [ 4  5  6  7]\n",
      "  [ 8  9 10 11]\n",
      "  [12 13 14 15]]\n",
      "\n",
      " [[16 17 18 19]\n",
      "  [20 21 22 23]\n",
      "  [24 25 26 27]\n",
      "  [28 29 30 31]]\n",
      "\n",
      " [[32 33 34 35]\n",
      "  [36 37 38 39]\n",
      "  [40 41 42 43]\n",
      "  [44 45 46 47]]]\n",
      "====================\n",
      "[[[ 0 16 32]\n",
      "  [ 1 17 33]\n",
      "  [ 2 18 34]\n",
      "  [ 3 19 35]]\n",
      "\n",
      " [[ 4 20 36]\n",
      "  [ 5 21 37]\n",
      "  [ 6 22 38]\n",
      "  [ 7 23 39]]\n",
      "\n",
      " [[ 8 24 40]\n",
      "  [ 9 25 41]\n",
      "  [10 26 42]\n",
      "  [11 27 43]]\n",
      "\n",
      " [[12 28 44]\n",
      "  [13 29 45]\n",
      "  [14 30 46]\n",
      "  [15 31 47]]]\n"
     ]
    }
   ],
   "source": [
    "import numpy as np\n",
    "\n",
    "x = np.arange(48)\n",
    "print(x)\n",
    "\n",
    "x = x.reshape(3, 4, 4)\n",
    "print(x.shape)\n",
    "print(x)\n",
    "\n",
    "print(\"====================\")\n",
    "\n",
    "x = x.transpose(1, 2, 0)\n",
    "print(x.shape)\n",
    "print(x)"
   ]
  }
 ],
 "metadata": {
  "kernelspec": {
   "display_name": "Python 3.10.6 ('env': venv)",
   "language": "python",
   "name": "python3"
  },
  "language_info": {
   "codemirror_mode": {
    "name": "ipython",
    "version": 3
   },
   "file_extension": ".py",
   "mimetype": "text/x-python",
   "name": "python",
   "nbconvert_exporter": "python",
   "pygments_lexer": "ipython3",
   "version": "3.10.6"
  },
  "orig_nbformat": 4,
  "vscode": {
   "interpreter": {
    "hash": "bb59aeb8aa62b48260650b7f57d5e74e5214161a5d0da408bb8793b8689a970e"
   }
  }
 },
 "nbformat": 4,
 "nbformat_minor": 2
}
