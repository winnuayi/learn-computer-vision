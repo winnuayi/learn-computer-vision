{
 "cells": [
  {
   "cell_type": "markdown",
   "metadata": {},
   "source": [
    "Convolution 1D menggunakan Numpy"
   ]
  },
  {
   "cell_type": "code",
   "execution_count": 1,
   "metadata": {},
   "outputs": [
    {
     "name": "stdout",
     "output_type": "stream",
     "text": [
      "a: [3 2 1]\n",
      "b: [1 2 3 4 5]\n",
      "a * b: [ 3  8 14 20 26 14  5]\n"
     ]
    }
   ],
   "source": [
    "import numpy as np\n",
    "\n",
    "a = np.array([3, 2, 1])\n",
    "b = np.array([1, 2, 3, 4, 5])\n",
    "\n",
    "print(\"a:\", a)\n",
    "print(\"b:\", b)\n",
    "\n",
    "print(\"a * b:\", np.convolve(a, b))"
   ]
  },
  {
   "cell_type": "markdown",
   "metadata": {},
   "source": [
    "Convolution 2D menggunakan Scipy. Numpy tidak memiliki API convolution 2D."
   ]
  },
  {
   "cell_type": "code",
   "execution_count": 7,
   "metadata": {},
   "outputs": [
    {
     "name": "stdout",
     "output_type": "stream",
     "text": [
      "c:\n",
      "[[1 2 3]\n",
      " [4 5 6]\n",
      " [7 8 9]]\n",
      "\n",
      "d:\n",
      "[[1 1]\n",
      " [1 1]]\n",
      "\n",
      "c * d: [[12 16]\n",
      " [24 28]]\n"
     ]
    }
   ],
   "source": [
    "from scipy import signal\n",
    "\n",
    "c = np.array([[1, 2, 3], [4, 5, 6], [7, 8, 9]])\n",
    "d = np.array([[1, 1], [1, 1]])\n",
    "\n",
    "print(f\"c:\\n{c}\\n\")\n",
    "print(f\"d:\\n{d}\\n\")\n",
    "\n",
    "print(f\"c * d:\\n{signal.convolve2d(c, d, mode='valid')}\\n\")"
   ]
  },
  {
   "cell_type": "markdown",
   "metadata": {},
   "source": [
    "Edge detection untuk mendapatkan posisi garis dari simple matrix menggunakan convolution"
   ]
  },
  {
   "cell_type": "code",
   "execution_count": 12,
   "metadata": {},
   "outputs": [
    {
     "name": "stdout",
     "output_type": "stream",
     "text": [
      "[[10 10 10  0  0  0]\n",
      " [10 10 10  0  0  0]\n",
      " [10 10 10  0  0  0]\n",
      " [10 10 10  0  0  0]\n",
      " [10 10 10  0  0  0]\n",
      " [10 10 10  0  0  0]]\n",
      "[[ 1  0 -1]\n",
      " [ 1  0 -1]\n",
      " [ 1  0 -1]]\n",
      "[[  0 -30 -30   0]\n",
      " [  0 -30 -30   0]\n",
      " [  0 -30 -30   0]\n",
      " [  0 -30 -30   0]]\n",
      "[[ 1  0 -1]\n",
      " [ 2  0 -2]\n",
      " [ 1  0 -1]]\n",
      "[[  0 -40 -40   0]\n",
      " [  0 -40 -40   0]\n",
      " [  0 -40 -40   0]\n",
      " [  0 -40 -40   0]]\n",
      "[[  3   0  -3]\n",
      " [ 10   0 -10]\n",
      " [  3   0  -3]]\n",
      "[[   0 -160 -160    0]\n",
      " [   0 -160 -160    0]\n",
      " [   0 -160 -160    0]\n",
      " [   0 -160 -160    0]]\n"
     ]
    }
   ],
   "source": [
    "import numpy as np\n",
    "from scipy import signal\n",
    "\n",
    "# edge detection\n",
    "matrix = np.array([\n",
    "    [10, 10, 10, 0, 0, 0],\n",
    "    [10, 10, 10, 0, 0, 0],\n",
    "    [10, 10, 10, 0, 0, 0],\n",
    "    [10, 10, 10, 0, 0, 0],\n",
    "    [10, 10, 10, 0, 0, 0],\n",
    "    [10, 10, 10, 0, 0, 0],\n",
    "])\n",
    "\n",
    "prewitt_filter = np.array([\n",
    "    [1, 0, -1],\n",
    "    [1, 0, -1],\n",
    "    [1, 0, -1],\n",
    "])\n",
    "\n",
    "sober_filter = np.array([\n",
    "    [1, 0, -1],\n",
    "    [2, 0, -2],\n",
    "    [1, 0, -1],\n",
    "])\n",
    "\n",
    "scharr_filter = np.array([\n",
    "    [3, 0, -3],\n",
    "    [10, 0, -10],\n",
    "    [3, 0, -3],\n",
    "])\n",
    "\n",
    "print(matrix)\n",
    "print(prewitt_filter)\n",
    "print(signal.convolve2d(matrix, prewitt_filter, mode='valid'))\n",
    "\n",
    "print(sober_filter)\n",
    "print(signal.convolve2d(matrix, sober_filter, mode='valid'))\n",
    "\n",
    "print(scharr_filter)\n",
    "print(signal.convolve2d(matrix, scharr_filter, mode='valid'))"
   ]
  }
 ],
 "metadata": {
  "kernelspec": {
   "display_name": "Python 3.10.6 ('env': venv)",
   "language": "python",
   "name": "python3"
  },
  "language_info": {
   "codemirror_mode": {
    "name": "ipython",
    "version": 3
   },
   "file_extension": ".py",
   "mimetype": "text/x-python",
   "name": "python",
   "nbconvert_exporter": "python",
   "pygments_lexer": "ipython3",
   "version": "3.10.6"
  },
  "orig_nbformat": 4,
  "vscode": {
   "interpreter": {
    "hash": "bb59aeb8aa62b48260650b7f57d5e74e5214161a5d0da408bb8793b8689a970e"
   }
  }
 },
 "nbformat": 4,
 "nbformat_minor": 2
}
